{
 "cells": [
  {
   "cell_type": "code",
   "execution_count": 1,
   "id": "aa4dedc9",
   "metadata": {},
   "outputs": [],
   "source": [
    "import matplotlib as mpl\n",
    "import matplotlib.pyplot as plt\n",
    "import pandas as pd\n",
    "import numpy as np\n",
    "import seaborn as sns"
   ]
  },
  {
   "cell_type": "markdown",
   "id": "0bdcc672",
   "metadata": {},
   "source": [
    "# Data preparation\n",
    "## Load multiple sensor data files, process and write to csv file"
   ]
  },
  {
   "cell_type": "code",
   "execution_count": 2,
   "id": "2375d222",
   "metadata": {},
   "outputs": [],
   "source": [
    "# Load multiple sensor data files\n",
    "def add_files(col_names, final_data):\n",
    "    for col_name in col_names:\n",
    "        df_new = pd.read_csv('data/'+col_name+'.txt', header=None, names=[col_name])\n",
    "        df_new[col_name] = df_new[col_name].str.split('\\t').str[0]\n",
    "        final_data = pd.concat([final_data, df_new], axis=1)\n",
    "        \n",
    "    return final_data"
   ]
  },
  {
   "cell_type": "code",
   "execution_count": 3,
   "id": "c83c615e",
   "metadata": {
    "scrolled": true
   },
   "outputs": [],
   "source": [
    "# Load CE.txt - Cooling efficiency data\n",
    "df_ce = pd.read_csv('data/CE.txt', header=None)\n",
    "df_ce['Time'] = df_ce.index * 60                          # Add column for cycle time in seconds\n",
    "df_ce['CE'] = df_ce[0].str.split('\\t').str[0]             # Pick CE reading every 60 seconds\n",
    "df_ce = df_ce.iloc[:, 1:]                                 # Remove 1st column"
   ]
  },
  {
   "cell_type": "code",
   "execution_count": 4,
   "id": "c5c10855",
   "metadata": {},
   "outputs": [],
   "source": [
    "# Load all the rest of sensor data files\n",
    "file_list = ['CP', 'EPS1', 'FS1', 'FS2', 'PS1', 'PS2', 'PS3', 'PS4', 'PS5', 'PS6', 'SE', 'TS1', 'TS2', 'TS3', 'TS4', 'VS1']\n",
    "final_df = add_files(file_list, df_ce)\n",
    "\n",
    "# Add cycle date\n",
    "final_df['Date'] = pd.date_range('4/26/2018  12:00:00 AM', freq='H', periods=len(final_df))\n",
    "\n",
    "# Export to new data file\n",
    "final_df.to_csv('data/HydraulicData.csv', index=False)"
   ]
  }
 ],
 "metadata": {
  "kernelspec": {
   "display_name": "Python 3 (ipykernel)",
   "language": "python",
   "name": "python3"
  },
  "language_info": {
   "codemirror_mode": {
    "name": "ipython",
    "version": 3
   },
   "file_extension": ".py",
   "mimetype": "text/x-python",
   "name": "python",
   "nbconvert_exporter": "python",
   "pygments_lexer": "ipython3",
   "version": "3.8.16"
  }
 },
 "nbformat": 4,
 "nbformat_minor": 5
}
